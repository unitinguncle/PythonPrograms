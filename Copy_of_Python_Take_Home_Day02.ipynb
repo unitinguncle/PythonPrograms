{
  "nbformat": 4,
  "nbformat_minor": 0,
  "metadata": {
    "colab": {
      "provenance": [],
      "collapsed_sections": [
        "k2L4TwpQAbWc",
        "BQW_KWfjDI7m"
      ],
      "include_colab_link": true
    },
    "kernelspec": {
      "name": "python3",
      "display_name": "Python 3"
    },
    "language_info": {
      "name": "python"
    }
  },
  "cells": [
    {
      "cell_type": "markdown",
      "metadata": {
        "id": "view-in-github",
        "colab_type": "text"
      },
      "source": [
        "<a href=\"https://colab.research.google.com/github/unitinguncle/PythonPrograms/blob/main/Copy_of_Python_Take_Home_Day02.ipynb\" target=\"_parent\"><img src=\"https://colab.research.google.com/assets/colab-badge.svg\" alt=\"Open In Colab\"/></a>"
      ]
    },
    {
      "cell_type": "markdown",
      "source": [
        "# **Problems**"
      ],
      "metadata": {
        "id": "-ebJhzZgAZdI"
      }
    },
    {
      "cell_type": "markdown",
      "source": [
        "## **Problem 01**\n",
        "\n",
        "### **Figures to Words (Western Style)**\n",
        "\n",
        "Write a function to convert figures to words in Western Number System using Dictionary:\n",
        "\n",
        "1367 -> \"One thousand three hundred and sixty seven\"\n",
        "\n",
        "18934345 -> \"Eighteen million nine hundred and thirty four thousand three hundred and forty five\"\n",
        "\n",
        "**Note:** You can assume that the numbers are below 1 trillion"
      ],
      "metadata": {
        "id": "k2L4TwpQAbWc"
      }
    },
    {
      "cell_type": "code",
      "source": [
        "tens={2:\"twenty\", 3:\"thirty\", 4:\"forty\", 5:\"fifty\", 6:\"sixty\", 7:\"seventy\", 8:\"eighty\", 9:\"ninty\"}\n",
        "ones={0:\"\", 1:\" one\", 2:\" two\", 3:\" three\", 4:\" four\", 5:\" five\", 6:\" six\", 7:\" seven\", 8:\" eight\", 9:\" nine\"}\n",
        "twenty={10:\"ten\", 11:\"eleven\", 12:\"twelve\", 13:\"thirteen\", 14:\"forteen\", 15:\"fifteen\", 16:\"sixteen\", 17:\"seventeen\", 18:\"eighteen\", 19:\"ninteen\"}\n",
        "places=(\"\", \" thousand\", \" million\", \" billion\", \" trillion\")"
      ],
      "metadata": {
        "id": "PRCOEUPIGH9N"
      },
      "execution_count": 45,
      "outputs": []
    },
    {
      "cell_type": "code",
      "source": [
        "def digits3(num:str, ctr:int) -> str:\n",
        "  word=\"\"\n",
        "  num = int(num)\n",
        "  if (num//100) != 0:\n",
        "    digit = ones[num//100]\n",
        "    if(ctr == 1):\n",
        "      word =word + digit + \" hundred and \"\n",
        "    else:\n",
        "      word =word + digit + \" hundred \"\n",
        "  num %= 100\n",
        "  if (num<10):\n",
        "    word = word + ones[num%10]\n",
        "  elif (num<20):\n",
        "    word += twenty[num]\n",
        "  else:\n",
        "    word += tens[num//10] + ones[num%10]\n",
        "  return word\n",
        "   \n"
      ],
      "metadata": {
        "id": "4_r85PIjH7Fq"
      },
      "execution_count": 55,
      "outputs": []
    },
    {
      "cell_type": "code",
      "execution_count": 74,
      "metadata": {
        "id": "OffQ1Il7APe4",
        "colab": {
          "base_uri": "https://localhost:8080/",
          "height": 35
        },
        "outputId": "c5a6c289-36a9-4f9c-cf61-19911081de1b"
      },
      "outputs": [
        {
          "output_type": "execute_result",
          "data": {
            "text/plain": [
              "'Eighteen million nine hundred thirty four thousand three hundred and forty five'"
            ],
            "application/vnd.google.colaboratory.intrinsic+json": {
              "type": "string"
            }
          },
          "metadata": {},
          "execution_count": 74
        }
      ],
      "source": [
        "def figures2words(n: int) -> str:\n",
        "    ## Write Code Here\n",
        "    n = str(n)\n",
        "    ctr =0\n",
        "    inwords = ''\n",
        "    while(n!=''):\n",
        "      last3 = n[-3:]\n",
        "      n=n[:-3]\n",
        "      inwords = places[ctr] + inwords\n",
        "      ctr += 1\n",
        "      word = digits3(last3, ctr)\n",
        "      inwords = word + inwords\n",
        "    return (inwords.strip()).capitalize()\n",
        "\n",
        "figures2words(18934345)"
      ]
    },
    {
      "cell_type": "markdown",
      "source": [
        "## **Problem 02**\n",
        "\n",
        "### **Roman to Arabic and Arabic to Roman**\n",
        "\n",
        "Implement two functions that converts roman number to arabic number and vice versa\n",
        "\n",
        "Example:\n",
        "\n",
        " > roman2arabic(\"V\") --> 5\n",
        "\n",
        " > arabic2roman(9) --> \"IX\""
      ],
      "metadata": {
        "id": "BQW_KWfjDI7m"
      }
    },
    {
      "cell_type": "code",
      "source": [
        "roman = {0:'', 1:'I', 2:'II', 3:'III', 4:'IV', 5:'V', 6:'VI',7:'VII', 8:'VIII', 9:'IX'}\n",
        "romanTens = {0:'', 1:'X', 2:'XX', 3:'XXX',4:'XL', 5:'L', 6:'LX', 7:'LXX', 8:'LXXX', 9: 'XC'}\n",
        "romanTho = {0:'', 1:'C', 2:'CC', 3:'CCC', 4:'CD', 5:'D', 6:'DC', 7:'DCC', 8:'DCCC', 9:'CM', 10:'M'}"
      ],
      "metadata": {
        "id": "Hcy3Dn68XeTo"
      },
      "execution_count": 92,
      "outputs": []
    },
    {
      "cell_type": "code",
      "source": [
        "def nestedA2R(num:int) -> str:\n",
        "  rstr=''\n",
        "  if(num<10):\n",
        "    rstr = roman[num]"
      ],
      "metadata": {
        "id": "HgWjrT0pdTre"
      },
      "execution_count": null,
      "outputs": []
    },
    {
      "cell_type": "code",
      "source": [
        "def roman2arabic(roman_number: str) -> int:\n",
        "    ## Write Code Here\n",
        "\n",
        "    return ...\n",
        "\n",
        "def arabic2roman(arabic_number: int) -> str:\n",
        "    ## Write Code Here\n",
        "    roman_str = ''\n",
        "    if(arabic_number < 10):\n",
        "      roman_str = roman[arabic_number]\n",
        "    elif(arabic_number < 100):\n",
        "      roman_str = romanTens[arabic_number//10] + roman[arabic_number%10]\n",
        "    elif(arabic_number < 1000):\n",
        "      roman_str = romanTho[arabic_number//100] + romanTens[(arabic_number%100)//10] + roman[arabic_number%10]\n",
        "    elif(arabic_number==1000):\n",
        "      roman_str = romanTho[10]\n",
        "    else:\n",
        "      return \"Out of range\"\n",
        "    return roman_str\n",
        "\n",
        "print(roman2arabic(\"V\"))\n",
        "print(arabic2roman(100))\n",
        "\n"
      ],
      "metadata": {
        "id": "4JEWOgyODJlz",
        "colab": {
          "base_uri": "https://localhost:8080/"
        },
        "outputId": "6bb2842f-9586-4425-f372-ac38f28a4f34"
      },
      "execution_count": 97,
      "outputs": [
        {
          "output_type": "stream",
          "name": "stdout",
          "text": [
            "Ellipsis\n",
            "C\n"
          ]
        }
      ]
    }
  ]
}