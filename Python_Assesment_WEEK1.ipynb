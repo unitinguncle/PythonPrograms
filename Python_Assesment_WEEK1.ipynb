{
  "nbformat": 4,
  "nbformat_minor": 0,
  "metadata": {
    "colab": {
      "provenance": [],
      "authorship_tag": "ABX9TyMyP+KHoaiJ496mjIPQkkH3",
      "include_colab_link": true
    },
    "kernelspec": {
      "name": "python3",
      "display_name": "Python 3"
    },
    "language_info": {
      "name": "python"
    }
  },
  "cells": [
    {
      "cell_type": "markdown",
      "metadata": {
        "id": "view-in-github",
        "colab_type": "text"
      },
      "source": [
        "<a href=\"https://colab.research.google.com/github/unitinguncle/PythonPrograms/blob/main/Python_Assesment_WEEK1.ipynb\" target=\"_parent\"><img src=\"https://colab.research.google.com/assets/colab-badge.svg\" alt=\"Open In Colab\"/></a>"
      ]
    },
    {
      "cell_type": "markdown",
      "source": [
        "CHECK IF PART OF THE INTEGER\n",
        "Write a function that takes an integer(n) and a list of digits(lst) as inputs and returns True if we can create \"n\" by concatenating a few elements from lst and returns False otherwise. All the elements of \"lst\" are between 0 and 9.\n",
        "\n",
        "Examples :\n",
        "is_part_of_integer([6, 3, 4], 634) ➞ True \n",
        "Explanation: (if we concatenate the given lst then we'll get 634, which is equivalent to given n value. So it returns True.) \n",
        "is_part_of_integer([5, 2, 6, 3, 4], 263)) ➞ True \n",
        "Explanation: (if we concatenate the given lst then we'll get 52634, where n = 263 which is a part of num. So it returns True.) \n",
        "is_part_of_integer([2, 5, 3, 4], 5890) ➞ False\n",
        "\n",
        "*Note : Please return your output. Don't print your answer inside the function. Your code will not get evaluated, if you are using 'print statement' inside the function.*\n",
        "\n",
        "Answer:(penalty regime: 0 %)"
      ],
      "metadata": {
        "id": "RdbsUmab2VEL"
      }
    },
    {
      "cell_type": "code",
      "source": [
        "def is_part_of_integer(lst: [int], n: int)-> bool:\n",
        "    #Write your code from here\n",
        "    for x in str(n):\n",
        "        if (int(x) not in lst):\n",
        "            return False\n",
        "    return True"
      ],
      "metadata": {
        "id": "ZheHgzHD2WlC"
      },
      "execution_count": null,
      "outputs": []
    },
    {
      "cell_type": "markdown",
      "source": [
        "IS THE WORD AN ISOGRAM\n",
        "An isogram is a word that has no duplicate letters. \n",
        "\n",
        "Create a function that takes a string and returns either True or False depending on whether or not it's an \"isogram\".\n",
        "\n",
        "Examples :\n",
        "\n",
        "is_isogram(\"Algorism\") ➞ True\n",
        "is_isogram(\"PasSword\") ➞ False # Not case sensitive.\n",
        "is_isogram(\"Consecutive\") ➞ False\n",
        "\n",
        "*Note : Please return your output. Don't print your answer inside the function. Your code will not get evaluated, if you are using 'print statement' inside the function.*\n",
        "Answer:(penalty regime: 0 %)"
      ],
      "metadata": {
        "id": "6DTE-N-m2Imr"
      }
    },
    {
      "cell_type": "code",
      "source": [
        "def is_isogram(s: str)-> bool:\n",
        "    #Write your code here\n",
        "    s=s.lower()\n",
        "    for x in s:\n",
        "        if s.count(x)>1:\n",
        "          print(s)\n",
        "          return False\n",
        "    return True\n",
        "is_isogram(\"PasSword\")"
      ],
      "metadata": {
        "colab": {
          "base_uri": "https://localhost:8080/"
        },
        "id": "WYhj4_Rcq87K",
        "outputId": "92ef3e2b-e0f8-4f16-99a7-38efa5b4a66f"
      },
      "execution_count": 26,
      "outputs": [
        {
          "output_type": "stream",
          "name": "stdout",
          "text": [
            "password\n"
          ]
        },
        {
          "output_type": "execute_result",
          "data": {
            "text/plain": [
              "False"
            ]
          },
          "metadata": {},
          "execution_count": 26
        }
      ]
    },
    {
      "cell_type": "markdown",
      "source": [
        "TOTAL NUMBER OF POSITIVE INTEGERS, WITH THE ODD DIGIT COUNT\n",
        "Given an integer n, find the total number of positive integers, with the odd digit count, less than n.\n",
        "For example, if n is 786, the answer would be 9(1-digit numbers) + 687(3-digit numbers).\n",
        "\n",
        "Examples : \n",
        "total_positive_odd_digit_count(786) -> 696\n",
        "total_positive_odd_digit_count(45) -> 9\n",
        "\n",
        "*Note : Please return your output. Don't print your answer inside the function. Your code will not get evaluated, if you are using 'print statement' inside the function.*\n",
        "Answer:(penalty regime: 0 %)"
      ],
      "metadata": {
        "id": "Mqg7TzGk17fE"
      }
    },
    {
      "cell_type": "code",
      "source": [
        "def isodddigit(num:int) -> bool:\n",
        "    digitno = 0\n",
        "    while(num!=0):\n",
        "        print(digitno)\n",
        "        digitno += 1\n",
        "        num //= 10\n",
        "    print(digitno)\n",
        "    if digitno%2!=0:\n",
        "        return True\n",
        "    return False"
      ],
      "metadata": {
        "colab": {
          "base_uri": "https://localhost:8080/"
        },
        "id": "PR0tNO8HtvZp",
        "outputId": "c2507088-91c3-4c9f-b313-02062bcbb88a"
      },
      "execution_count": 22,
      "outputs": [
        {
          "output_type": "stream",
          "name": "stdout",
          "text": [
            "0\n",
            "1\n"
          ]
        },
        {
          "output_type": "execute_result",
          "data": {
            "text/plain": [
              "True"
            ]
          },
          "metadata": {},
          "execution_count": 22
        }
      ]
    },
    {
      "cell_type": "code",
      "source": [
        "\n",
        "    \n",
        "def total_positive_odd_digit_count(num):\n",
        "    #Write your code here\n",
        "    count = 0\n",
        "    for x in range(1,num):\n",
        "        if isodddigit(x):\n",
        "            count += 1\n",
        "    return count\n",
        "\n",
        "total_positive_odd_digit_count(45)"
      ],
      "metadata": {
        "colab": {
          "base_uri": "https://localhost:8080/"
        },
        "id": "ex1vGDgxtk0g",
        "outputId": "ba345722-c175-466d-9761-664449314330"
      },
      "execution_count": 14,
      "outputs": [
        {
          "output_type": "execute_result",
          "data": {
            "text/plain": [
              "24"
            ]
          },
          "metadata": {},
          "execution_count": 14
        }
      ]
    },
    {
      "cell_type": "markdown",
      "source": [
        "CHECK FACTORS\n",
        "Write a function that returns 1 if all integers in a list are factors of given integer n, and 0 otherwise.\n",
        "\n",
        "Examples :\n",
        "\n",
        "check_factors([2, 3, 4], 12) ➞ 1\n",
        "# Since 2, 3, and 4 are all factors of 12.\n",
        "\n",
        "check_factors([1, 2, 3, 8], 12) ➞ 0\n",
        "# 8 is not a factor of 12.\n",
        "\n",
        "check_factors([1, 2, 50], 100) ➞ 1\n",
        "check_factors([3, 6], 9) ➞ 0\n",
        "Answer:(penalty regime: 0 %)"
      ],
      "metadata": {
        "id": "_7tPcS1G1_XY"
      }
    },
    {
      "cell_type": "code",
      "source": [
        "def check_factors(lst, n):\n",
        "    #Write your code here\n",
        "    for x in lst:\n",
        "        if n%x != 0:\n",
        "            return 0\n",
        "    return 1"
      ],
      "metadata": {
        "id": "3WdSnRha2AQe"
      },
      "execution_count": null,
      "outputs": []
    },
    {
      "cell_type": "markdown",
      "source": [
        "CHECK IF IT IS POWER OF 2 OR NOT\n",
        "Write a function that takes an integer as input and returns True if the integer is a power of 2 otherwise the function should return False.\n",
        "\n",
        "Example - 1:\n",
        "Input : 4\n",
        "Output : True\n",
        "\n",
        "Example - 2:\n",
        "Input : 45\n",
        "Output : False\n",
        "\n",
        "*Note : Please return your output. Don't print your answer inside the function. Your code will not get evaluated, if you are using 'print statement' inside the function.*\n",
        "\n",
        "Answer:(penalty regime: 0 %)"
      ],
      "metadata": {
        "id": "jk67cekV1zFe"
      }
    },
    {
      "cell_type": "code",
      "source": [
        "def is_power_of_two(num):\n",
        "    #Write your code here\n",
        "    x=1\n",
        "    while x<=num:\n",
        "        if x==num:\n",
        "            return True\n",
        "        x *= 2\n",
        "    return False"
      ],
      "metadata": {
        "id": "UXPUDNC41yAP"
      },
      "execution_count": null,
      "outputs": []
    },
    {
      "cell_type": "markdown",
      "source": [
        "SUM OF ARMSTRONG NUMBERS\n",
        "Write a function that takes two integers, a and b as input and returns the sum of Armstrong numbers between two given integers. \n",
        "\n",
        "Armstrong number is a number that is the sum of its own digits each raised to the power of the number of digits.\n",
        "(1634 = 1 ^ 4 + 6 ^ 4 + 3 ^ 4 + 4 ^ 4 = 1 + 1296 + 81 + 256 = 1634, so 1634 is an armstrong number.)\n",
        "\n",
        "Examples : \n",
        "sum_of_armstrong(1, 500) -> 1346\n",
        "(Armstrong numbers between 1 and 500 - 1, 2, 3, 4, 5, 6, 7, 8, 9, 153, 370, 371, 407) \n",
        "sum_of_armstrong(200, 400) -> 741\n",
        "(Armstrong numbers between 200 and 400 - 370, 371)\n",
        "*Note : Please return your output. Don't print your answer inside the function. Your code will not get evaluated, if you are using 'print statement' inside the function.*\n",
        "\n",
        "Answer:(penalty regime: 0 %)"
      ],
      "metadata": {
        "id": "KUNBOGRx1ig8"
      }
    },
    {
      "cell_type": "code",
      "source": [
        "def is_armstrong(num:int) -> bool:\n",
        "    count = 0\n",
        "    num2 =num\n",
        "    num3 = num2\n",
        "    arm = 0\n",
        "    while(num!=0):\n",
        "        count+=1\n",
        "        num//=10\n",
        "    while(num2!=0):\n",
        "        r=num2%10\n",
        "        arm += pow(r,count)\n",
        "        num2//=10\n",
        "    if arm==num3:\n",
        "        return True\n",
        "    return False\n"
      ],
      "metadata": {
        "colab": {
          "base_uri": "https://localhost:8080/"
        },
        "id": "qPs9L0GDyN1J",
        "outputId": "55da4dda-0636-4cfb-c07e-5fdf8c017c7f"
      },
      "execution_count": 25,
      "outputs": [
        {
          "output_type": "execute_result",
          "data": {
            "text/plain": [
              "True"
            ]
          },
          "metadata": {},
          "execution_count": 25
        }
      ]
    },
    {
      "cell_type": "code",
      "source": [
        "\n",
        "def sum_of_armstrong(a, b):\n",
        "    sum = 0\n",
        "    for x in range(a,b):\n",
        "        if is_armstrong(x):\n",
        "            sum += x\n",
        "    return sum\n",
        "    #Write your code here"
      ],
      "metadata": {
        "id": "M13VrxVpyLjY"
      },
      "execution_count": null,
      "outputs": []
    },
    {
      "cell_type": "markdown",
      "source": [
        "MINIMUM VALUE TO BE ADDED\n",
        "Given a list of integers, which may be negative or positive, find the minimum number which when added to every element will make the whole list positive, i.e., every element will become strictly greater than zero. \n",
        "\n",
        "For example, if the list is [-4, -3, 89, -6, -25] the answer would be 26. If we add 26 to each element present in the list, then list becomes [22, 23, 115, 20, 1]. Now all the elements in the list are greater than zero. So the answer is 26.\n",
        "\n",
        "Examples : \n",
        "\n",
        "min_val([-4, -3, 89, -6, -25]) -> 26 \n",
        "min_val([32, 12, -45, -44, -33]) -> 46\n",
        "\n",
        "*Note : Please return your output. Don't print your answer inside the function. Your code will not get evaluated, if you are using 'print statement' inside the function.*\n",
        "\n",
        "Answer:(penalty regime: 0 %)"
      ],
      "metadata": {
        "id": "Snv2fTVg1o-b"
      }
    },
    {
      "cell_type": "code",
      "source": [
        "def min_val(lst: [int])-> int:\n",
        "    #Write your code here\n",
        "    min=lst[0]\n",
        "    for a in lst:\n",
        "        if a<min:\n",
        "            min = a\n",
        "    return (min*-1)+1"
      ],
      "metadata": {
        "id": "0DkmEe8o1p2G"
      },
      "execution_count": null,
      "outputs": []
    }
  ]
}